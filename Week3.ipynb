{
 "cells": [
  {
   "cell_type": "markdown",
   "metadata": {},
   "source": [
    "### Weekly Notebook 3\n",
    "#### Week 4 of the Semester\n",
    "#### Monday, September 16\n",
    "\n",
    "# Chapter 3 - Lists! "
   ]
  },
  {
   "cell_type": "markdown",
   "metadata": {},
   "source": [
    "Lists contain elements and are indicated with square brackets, like `[]`. "
   ]
  },
  {
   "cell_type": "code",
   "execution_count": 2,
   "metadata": {},
   "outputs": [
    {
     "data": {
      "text/plain": [
       "['cook', 'dishes', 'change oil', 'make bagels', 'write python lessons']"
      ]
     },
     "execution_count": 2,
     "metadata": {},
     "output_type": "execute_result"
    }
   ],
   "source": [
    "todo = ['cook','dishes','change oil','make bagels','write python lessons']\n",
    "todo"
   ]
  },
  {
   "cell_type": "markdown",
   "metadata": {},
   "source": [
    "The position of an element in a list is called its _index_. The zeroth (read \"first\") entry has index `0`. \n",
    "\n",
    "Most languages that are used for computer programming start at 0. Most languages that are used for math/data start at 1. \n",
    "There are technical and logical arguments for both ways.\n",
    "\n",
    "Exercise 0: How old are you when you are born? "
   ]
  },
  {
   "cell_type": "markdown",
   "metadata": {},
   "source": [
    "0"
   ]
  },
  {
   "cell_type": "code",
   "execution_count": 3,
   "metadata": {},
   "outputs": [
    {
     "data": {
      "text/plain": [
       "('cook', 'dishes')"
      ]
     },
     "execution_count": 3,
     "metadata": {},
     "output_type": "execute_result"
    }
   ],
   "source": [
    "todo[0],todo[1]"
   ]
  },
  {
   "cell_type": "code",
   "execution_count": 4,
   "metadata": {},
   "outputs": [
    {
     "data": {
      "text/plain": [
       "('write python lessons', 'make bagels')"
      ]
     },
     "execution_count": 4,
     "metadata": {},
     "output_type": "execute_result"
    }
   ],
   "source": [
    "todo[-1],todo[-2]"
   ]
  },
  {
   "cell_type": "markdown",
   "metadata": {},
   "source": [
    "If you know the name of the item, but you need to know the index, you can use the list method `index` to find it, like below. "
   ]
  },
  {
   "cell_type": "code",
   "execution_count": 5,
   "metadata": {},
   "outputs": [
    {
     "data": {
      "text/plain": [
       "3"
      ]
     },
     "execution_count": 5,
     "metadata": {},
     "output_type": "execute_result"
    }
   ],
   "source": [
    "todo.index('make bagels')"
   ]
  },
  {
   "cell_type": "markdown",
   "metadata": {},
   "source": [
    "Follow along with the book to complete:\n",
    "\n",
    "Exercise 1: Make a list of at least 3 things you need to do. Then, using indices, print a message reminding you to do each of those things. \n",
    "\n",
    "Exercise 2: Pretend you've accomplished the second thing on your list. Take it off the list. \n",
    "\n",
    "Exercise 3: Something minor has come up, add it to the end of your list with `append`.\n",
    "\n",
    "Exercise 4: Something major has come up! Add it into the first spot on your list. \n",
    "\n",
    "Exercise 5: You finished the third thing on the list, but it has a follow up task. Use `list[2] =` to replace the accomplished task with the new one.\n",
    "\n",
    "Exercise 6: Use `pop(0)` to remove the first thing from your list and print a message congratulating yourself for doing it.  \n",
    "\n",
    "Exercise 7: If `\"sleep\"` is on your list, take it off by using `remove(\"sleep\")` **YOU CAN SLEEP WHEN YOU'RE DEAD** [Disclaimer](#disclaimer)"
   ]
  },
  {
   "cell_type": "code",
   "execution_count": 30,
   "metadata": {},
   "outputs": [
    {
     "name": "stdout",
     "output_type": "stream",
     "text": [
      "Todo: Photosynthesize , Consume mulch , Bask in water\n"
     ]
    }
   ],
   "source": [
    "my_todo = [\"Photosynthesize\", \"Consume mulch\", \"Bask in water\"]\n",
    "print(\"Todo:\", my_todo[0], \",\", my_todo[1], \",\", my_todo[2])"
   ]
  },
  {
   "cell_type": "code",
   "execution_count": null,
   "metadata": {},
   "outputs": [
    {
     "name": "stdout",
     "output_type": "stream",
     "text": [
      "Bask in water\n"
     ]
    }
   ],
   "source": [
    "del my_todo[0] #The value stored at index 0 is gone, and all other values have been shifted down 1\n",
    "print(my_todo[1])"
   ]
  },
  {
   "cell_type": "code",
   "execution_count": 32,
   "metadata": {},
   "outputs": [
    {
     "name": "stdout",
     "output_type": "stream",
     "text": [
      "Todo: Consume mulch , Bask in water , Shed leaves\n"
     ]
    }
   ],
   "source": [
    "my_todo.append(\"Shed leaves\")\n",
    "print(\"Todo:\", my_todo[0], \",\", my_todo[1], \",\", my_todo[2])"
   ]
  },
  {
   "cell_type": "code",
   "execution_count": 33,
   "metadata": {},
   "outputs": [
    {
     "name": "stdout",
     "output_type": "stream",
     "text": [
      "['Evade Mower', 'Consume mulch', 'Bask in water', 'Shed leaves']\n"
     ]
    }
   ],
   "source": [
    "my_todo.insert(0, \"Evade Mower\")\n",
    "print(my_todo)\n",
    "#running the code multiple times cause multiple things to be added, removed, etc"
   ]
  },
  {
   "cell_type": "code",
   "execution_count": 34,
   "metadata": {},
   "outputs": [
    {
     "name": "stdout",
     "output_type": "stream",
     "text": [
      "['Evade Mower', 'Consume mulch', 'Consume more mulch', 'Shed leaves']\n"
     ]
    }
   ],
   "source": [
    "my_todo[2] = \"Consume more mulch\"\n",
    "print(my_todo)"
   ]
  },
  {
   "cell_type": "code",
   "execution_count": null,
   "metadata": {},
   "outputs": [
    {
     "name": "stdout",
     "output_type": "stream",
     "text": [
      "['Evade Mower', 'Consume mulch', 'Consume more mulch']\n",
      "Shed leaves\n"
     ]
    }
   ],
   "source": [
    "done = my_todo.pop() #popped everytime this line is called, not everytime done is printed\n",
    "print(my_todo)\n",
    "print (done)"
   ]
  },
  {
   "cell_type": "code",
   "execution_count": 36,
   "metadata": {},
   "outputs": [
    {
     "name": "stdout",
     "output_type": "stream",
     "text": [
      "You did! It! The: SHED LEAVES Hoooooray!\n"
     ]
    }
   ],
   "source": [
    "print(\"You did! It! The:\", done.upper(), \"Hoooooray!\")"
   ]
  },
  {
   "cell_type": "code",
   "execution_count": 38,
   "metadata": {},
   "outputs": [
    {
     "name": "stdout",
     "output_type": "stream",
     "text": [
      "[\"Never sleep as per Chris' instructions\", 'Evade Mower', 'Consume mulch', 'Consume more mulch']\n"
     ]
    }
   ],
   "source": [
    "my_todo.insert(0, \"Never sleep as per Chris' instructions\")\n",
    "print(my_todo)"
   ]
  },
  {
   "cell_type": "markdown",
   "metadata": {},
   "source": [
    "Exercise 8: Try both `greek.sort()` and `sorted(greek)`. What does the text say is the difference between the two? \n",
    "\n",
    "Exercise 9: How does Python sorting work with capitalization? Add some numbers to the list and sort it again. Where do those fall into the priority? \n",
    "\n",
    "Exercise 10: Use `len()` to show me how many letters are in the greek alphabet. "
   ]
  },
  {
   "cell_type": "code",
   "execution_count": 2,
   "metadata": {},
   "outputs": [
    {
     "name": "stdout",
     "output_type": "stream",
     "text": [
      "['Chi', 'Iota', 'Kappa', 'Mu', 'Omega', 'Sigma', 'Xi', 'alpha', 'beta', 'delta', 'epsilon', 'eta', 'gamma', 'lambda', 'nu', 'omicron', 'phi', 'pi', 'psi', 'rho', 'tau', 'theta', 'upsilon', 'zeta']\n",
      "['Chi', 'Iota', 'Kappa', 'Mu', 'Omega', 'Sigma', 'Xi', 'alpha', 'beta', 'delta', 'epsilon', 'eta', 'gamma', 'lambda', 'nu', 'omicron', 'phi', 'pi', 'psi', 'rho', 'tau', 'theta', 'upsilon', 'zeta']\n",
      "['alpha', 'beta', 'gamma', 'delta', 'epsilon', 'zeta', 'eta', 'theta', 'Iota', 'Kappa', 'lambda', 'Mu', 'nu', 'Xi', 'omicron', 'pi', 'rho', 'Sigma', 'tau', 'upsilon', 'phi', 'Chi', 'psi', 'Omega']\n",
      "['Omega', 'psi', 'Chi', 'phi', 'upsilon', 'tau', 'Sigma', 'rho', 'pi', 'omicron', 'Xi', 'nu', 'Mu', 'lambda', 'Kappa', 'Iota', 'theta', 'eta', 'zeta', 'epsilon', 'delta', 'gamma', 'beta', 'alpha']\n"
     ]
    }
   ],
   "source": [
    "greek = ['alpha','beta','gamma','delta','epsilon','zeta','eta','theta','Iota','Kappa','lambda','Mu','nu','Xi','omicron','pi','rho','Sigma','tau','upsilon','phi','Chi','psi','Omega']\n",
    "greek2 = ['alpha','beta','gamma','delta','epsilon','zeta','eta','theta','Iota','Kappa','lambda','Mu','nu','Xi','omicron','pi','rho','Sigma','tau','upsilon','phi','Chi','psi','Omega']\n",
    "\n",
    "greek.sort() #permanent sort (unless redefined)\n",
    "print(greek)\n",
    "print(sorted(greek2)) #temporary sort (just for the print)\n",
    "print(greek2)\n",
    "#can also use _.sort(reverse=True) to reverse alphabetize\n",
    "\n",
    "#reverse order of any list:\n",
    "greek3 = ['alpha','beta','gamma','delta','epsilon','zeta','eta','theta','Iota','Kappa','lambda','Mu','nu','Xi','omicron','pi','rho','Sigma','tau','upsilon','phi','Chi','psi','Omega']\n",
    "greek3.reverse()\n",
    "print(greek3)"
   ]
  },
  {
   "cell_type": "code",
   "execution_count": null,
   "metadata": {},
   "outputs": [
    {
     "ename": "TypeError",
     "evalue": "'<' not supported between instances of 'str' and 'int'",
     "output_type": "error",
     "traceback": [
      "\u001b[31m---------------------------------------------------------------------------\u001b[39m",
      "\u001b[31mTypeError\u001b[39m                                 Traceback (most recent call last)",
      "\u001b[36mCell\u001b[39m\u001b[36m \u001b[39m\u001b[32mIn[6]\u001b[39m\u001b[32m, line 4\u001b[39m\n\u001b[32m      1\u001b[39m \u001b[38;5;66;03m#integers and string can not exist in same list, but integers as strings can. those and symbols are placed before letters\u001b[39;00m\n\u001b[32m      2\u001b[39m \u001b[38;5;66;03m#Capitalized letters are placed before lowercase, regardless of place in alphabet\u001b[39;00m\n\u001b[32m      3\u001b[39m greek4 = [\u001b[32m1\u001b[39m, \u001b[32m99\u001b[39m, \u001b[32m2\u001b[39m, \u001b[33m'\u001b[39m\u001b[33malpha\u001b[39m\u001b[33m'\u001b[39m,\u001b[33m'\u001b[39m\u001b[33mbeta\u001b[39m\u001b[33m'\u001b[39m,\u001b[33m'\u001b[39m\u001b[33mGamma\u001b[39m\u001b[33m'\u001b[39m,\u001b[33m'\u001b[39m\u001b[33mdelta\u001b[39m\u001b[33m'\u001b[39m,\u001b[33m'\u001b[39m\u001b[33mEpsilon\u001b[39m\u001b[33m'\u001b[39m,\u001b[33m'\u001b[39m\u001b[33mzeta\u001b[39m\u001b[33m'\u001b[39m,\u001b[33m'\u001b[39m\u001b[33meta\u001b[39m\u001b[33m'\u001b[39m,\u001b[33m'\u001b[39m\u001b[33mTheta\u001b[39m\u001b[33m'\u001b[39m,\u001b[33m'\u001b[39m\u001b[33mIota\u001b[39m\u001b[33m'\u001b[39m,\u001b[33m'\u001b[39m\u001b[33mKappa\u001b[39m\u001b[33m'\u001b[39m,\u001b[33m'\u001b[39m\u001b[33mlambda\u001b[39m\u001b[33m'\u001b[39m,\u001b[33m'\u001b[39m\u001b[33mMu\u001b[39m\u001b[33m'\u001b[39m,\u001b[33m'\u001b[39m\u001b[33mnu\u001b[39m\u001b[33m'\u001b[39m,\u001b[33m'\u001b[39m\u001b[33mXi\u001b[39m\u001b[33m'\u001b[39m,\u001b[33m'\u001b[39m\u001b[33momicron\u001b[39m\u001b[33m'\u001b[39m,\u001b[33m'\u001b[39m\u001b[33mpi\u001b[39m\u001b[33m'\u001b[39m,\u001b[33m'\u001b[39m\u001b[33mrho\u001b[39m\u001b[33m'\u001b[39m,\u001b[33m'\u001b[39m\u001b[33mSigma\u001b[39m\u001b[33m'\u001b[39m,\u001b[33m'\u001b[39m\u001b[33mtau\u001b[39m\u001b[33m'\u001b[39m,\u001b[33m'\u001b[39m\u001b[33mupsilon\u001b[39m\u001b[33m'\u001b[39m,\u001b[33m'\u001b[39m\u001b[33mphi\u001b[39m\u001b[33m'\u001b[39m,\u001b[33m'\u001b[39m\u001b[33mChi\u001b[39m\u001b[33m'\u001b[39m,\u001b[33m'\u001b[39m\u001b[33mpsi\u001b[39m\u001b[33m'\u001b[39m,\u001b[33m'\u001b[39m\u001b[33mOmega\u001b[39m\u001b[33m'\u001b[39m]\n\u001b[32m----> \u001b[39m\u001b[32m4\u001b[39m \u001b[43mgreek4\u001b[49m\u001b[43m.\u001b[49m\u001b[43msort\u001b[49m\u001b[43m(\u001b[49m\u001b[43m)\u001b[49m\n\u001b[32m      5\u001b[39m greek4\n",
      "\u001b[31mTypeError\u001b[39m: '<' not supported between instances of 'str' and 'int'"
     ]
    }
   ],
   "source": [
    "#If int and str are in same list, the list cannot be sorted\n",
    "#When written as strings: Capitalized letters are placed before lowercase, regardless of place in alphabet\n",
    "greek4 = [1, 99, 2, 'alpha','beta','Gamma','delta','Epsilon','zeta','eta','Theta','Iota','Kappa','lambda','Mu','nu','Xi','omicron','pi','rho','Sigma','tau','upsilon','phi','Chi','psi','Omega']\n",
    "greek4.sort()\n",
    "greek4"
   ]
  },
  {
   "cell_type": "code",
   "execution_count": 5,
   "metadata": {},
   "outputs": [
    {
     "data": {
      "text/plain": [
       "[1, 2, 3, 4, 52, 67, 99]"
      ]
     },
     "execution_count": 5,
     "metadata": {},
     "output_type": "execute_result"
    }
   ],
   "source": [
    "a_list = [1, 2, 3, 99, 4, 67, 52]\n",
    "a_list.sort()\n",
    "a_list #integers are sorted in ascending order by default"
   ]
  },
  {
   "cell_type": "code",
   "execution_count": 3,
   "metadata": {},
   "outputs": [
    {
     "data": {
      "text/plain": [
       "24"
      ]
     },
     "execution_count": 3,
     "metadata": {},
     "output_type": "execute_result"
    }
   ],
   "source": [
    "#Ex10\n",
    "len(greek)"
   ]
  },
  {
   "cell_type": "markdown",
   "metadata": {},
   "source": [
    "#### Operations with Lists and Augmented Operations\n",
    "\n",
    "You can do some of the mathematical operations to lists as well:\n",
    "\n",
    "Exercise 11: Make 2 lists that have items and add them together. In English, write what this does. \n",
    "\n",
    "Exercise 12: Try to multiply your two lists, can you do this? \n",
    "\n",
    "Exercise 13: What happens if you multiply your list by an `int`? "
   ]
  },
  {
   "cell_type": "code",
   "execution_count": 50,
   "metadata": {},
   "outputs": [
    {
     "data": {
      "text/plain": [
       "['Banana', 'Orange', 'Apple', 'Bingus', 'Bongus', 'Flingus']"
      ]
     },
     "execution_count": 50,
     "metadata": {},
     "output_type": "execute_result"
    }
   ],
   "source": [
    "list_1 = [\"Banana\", \"Orange\", \"Apple\"]\n",
    "list_2 = [\"Bingus\", \"Bongus\", \"Flingus\"]\n",
    "\n",
    "# does not work: list_1 * list_2\n",
    "list_1 + list_2"
   ]
  },
  {
   "cell_type": "code",
   "execution_count": null,
   "metadata": {},
   "outputs": [
    {
     "data": {
      "text/plain": [
       "'OrangeBongus'"
      ]
     },
     "execution_count": 52,
     "metadata": {},
     "output_type": "execute_result"
    }
   ],
   "source": [
    "list_1[1] + list_2[1]\n",
    "#does not work: list_1[1] + list_2"
   ]
  },
  {
   "cell_type": "code",
   "execution_count": 53,
   "metadata": {},
   "outputs": [
    {
     "data": {
      "text/plain": [
       "['Banana',\n",
       " 'Orange',\n",
       " 'Apple',\n",
       " 'Banana',\n",
       " 'Orange',\n",
       " 'Apple',\n",
       " 'Banana',\n",
       " 'Orange',\n",
       " 'Apple']"
      ]
     },
     "execution_count": 53,
     "metadata": {},
     "output_type": "execute_result"
    }
   ],
   "source": [
    "list_1 * 3"
   ]
  },
  {
   "cell_type": "markdown",
   "metadata": {},
   "source": [
    "## Works:\n",
    "    Adding two lists together (Lists all indexes)\n",
    "    Adding two individual indexes together (Lists the two of them)\n",
    "    Multiplying list by integer (Lists the list x number of times)\n",
    "\n",
    "## Does not work:\n",
    "    Adding entire list to individual index\n",
    "    Multipying lists or indexes with eachother\n",
    "    Adding integer to list"
   ]
  },
  {
   "cell_type": "markdown",
   "metadata": {},
   "source": [
    "There are some nice shorthand commands you might want to know for lists. These are called augmented operations. (Actually they work for some other types too.) \n",
    "\n",
    "Augmented operations include a math operation $(+,-,*,/,...)$ and an equal sign. They combine the steps of doing the operation and reassigning the variable. Run the code cell to check it out. "
   ]
  },
  {
   "cell_type": "code",
   "execution_count": null,
   "metadata": {},
   "outputs": [
    {
     "name": "stdout",
     "output_type": "stream",
     "text": [
      "7\n",
      "28\n"
     ]
    }
   ],
   "source": [
    "x = 7\n",
    "print(x)\n",
    "x *= 4 # x = x*4\n",
    "print(x)"
   ]
  },
  {
   "cell_type": "markdown",
   "metadata": {},
   "source": [
    "The augmented operation you will probably get the most use of is `+=` applied to a list. Try it out below with one of your lists and a new item. "
   ]
  },
  {
   "cell_type": "code",
   "execution_count": null,
   "metadata": {},
   "outputs": [
    {
     "data": {
      "text/plain": [
       "[\"Never sleep as per Chris' instructions\",\n",
       " 'Evade Mower',\n",
       " 'Consume mulch',\n",
       " 'Consume more mulch',\n",
       " 'E',\n",
       " 'v',\n",
       " 'e',\n",
       " 'n',\n",
       " ' ',\n",
       " 'm',\n",
       " 'o',\n",
       " 'r',\n",
       " 'e',\n",
       " ' ',\n",
       " 'm',\n",
       " 'u',\n",
       " 'l',\n",
       " 'c',\n",
       " 'h',\n",
       " 'E',\n",
       " 'v',\n",
       " 'e',\n",
       " 'n',\n",
       " ' ',\n",
       " 'm',\n",
       " 'o',\n",
       " 'r',\n",
       " 'e',\n",
       " ' ',\n",
       " 'm',\n",
       " 'u',\n",
       " 'l',\n",
       " 'c',\n",
       " 'h']"
      ]
     },
     "execution_count": 59,
     "metadata": {},
     "output_type": "execute_result"
    }
   ],
   "source": [
    "my_todo += 'Even more mulch' # Adds every single character as an individual entry in list\n",
    "my_todo"
   ]
  },
  {
   "cell_type": "code",
   "execution_count": 61,
   "metadata": {},
   "outputs": [
    {
     "data": {
      "text/plain": [
       "[\"Never sleep as per Chris' instructions\",\n",
       " 'Evade Mower',\n",
       " 'Consume mulch',\n",
       " 'Consume more mulch',\n",
       " 'E',\n",
       " 'v',\n",
       " 'e',\n",
       " 'n',\n",
       " ' ',\n",
       " 'm',\n",
       " 'o',\n",
       " 'r',\n",
       " 'e',\n",
       " ' ',\n",
       " 'm',\n",
       " 'u',\n",
       " 'l',\n",
       " 'c',\n",
       " 'h',\n",
       " 'E',\n",
       " 'v',\n",
       " 'e',\n",
       " 'n',\n",
       " ' ',\n",
       " 'm',\n",
       " 'o',\n",
       " 'r',\n",
       " 'e',\n",
       " ' ',\n",
       " 'm',\n",
       " 'u',\n",
       " 'l',\n",
       " 'c',\n",
       " 'h',\n",
       " 'even more mulch',\n",
       " 'even more mulch']"
      ]
     },
     "execution_count": 61,
     "metadata": {},
     "output_type": "execute_result"
    }
   ],
   "source": [
    "my_todo += ['even more mulch'] #Adds 1 string as entry to list\n",
    "my_todo"
   ]
  },
  {
   "cell_type": "markdown",
   "metadata": {},
   "source": [
    "Exercise 14: What is the difference between these code cells using `+=`? Which one operates as you would expect? What does adding a list and string do? What does adding a list and list do? What about adding a list and `int`? "
   ]
  },
  {
   "cell_type": "code",
   "execution_count": null,
   "metadata": {},
   "outputs": [
    {
     "name": "stdout",
     "output_type": "stream",
     "text": [
      "['Floppa', 'Plinka', 'Sogga']\n",
      "['Floppa', 'Plinka', 'Sogga', 'B']\n",
      "['Floppa', 'Plinka', 'Sogga', 'B', 'Bingus']\n"
     ]
    }
   ],
   "source": [
    "new_list = [\"Floppa\", \"Plinka\", \"Sogga\"]\n",
    "print(new_list)\n",
    "new_list += \"B\" #Adds individual characters as strings\n",
    "print(new_list)\n",
    "new_list += [\"Bingus\"] #Adds one new string\n",
    "print(new_list)"
   ]
  },
  {
   "cell_type": "code",
   "execution_count": null,
   "metadata": {},
   "outputs": [
    {
     "ename": "TypeError",
     "evalue": "'int' object is not iterable",
     "output_type": "error",
     "traceback": [
      "\u001b[31m---------------------------------------------------------------------------\u001b[39m",
      "\u001b[31mTypeError\u001b[39m                                 Traceback (most recent call last)",
      "\u001b[36mCell\u001b[39m\u001b[36m \u001b[39m\u001b[32mIn[65]\u001b[39m\u001b[32m, line 1\u001b[39m\n\u001b[32m----> \u001b[39m\u001b[32m1\u001b[39m \u001b[43mnew_list\u001b[49m\u001b[43m \u001b[49m\u001b[43m+\u001b[49m\u001b[43m=\u001b[49m\u001b[43m \u001b[49m\u001b[32;43m3\u001b[39;49m\n\u001b[32m      2\u001b[39m \u001b[38;5;28mprint\u001b[39m(new_list)\n",
      "\u001b[31mTypeError\u001b[39m: 'int' object is not iterable"
     ]
    }
   ],
   "source": [
    "new_list += 3 #does not work\n",
    "print(new_list)"
   ]
  },
  {
   "cell_type": "code",
   "execution_count": null,
   "metadata": {},
   "outputs": [
    {
     "name": "stdout",
     "output_type": "stream",
     "text": [
      "['Floppa', 'Plinka', 'Sogga', 'B', 'Bingus', 'Floppa', 'Plinka', 'Sogga', 'B', 'Bingus']\n"
     ]
    }
   ],
   "source": [
    "new_list += new_list #adds it to itself\n",
    "print(new_list)"
   ]
  },
  {
   "cell_type": "markdown",
   "metadata": {},
   "source": [
    "#### Random module\n",
    "\n",
    "Let's take a little bit of time here to talk about modules. Modules are add-ons for python. They come in the form of a bunch of .py files installed on to your computer. There are some that are built in to Python when you install it. Others you have to install yourself, and usually these third party ones are called packages. You could write a Python package if you want, and people could get it from your github, from `conda`, or from `pip`, which are distribution sites or package managers. For example, Jupyter was a third party package you needed to install, and if you downloaded Anaconda, it came with a bunch of these preinstalled. \n",
    "\n",
    "We will right now use one of the built in Python modules, the `random` one. To use a module or package, you need to import it. "
   ]
  },
  {
   "cell_type": "code",
   "execution_count": 2,
   "metadata": {},
   "outputs": [],
   "source": [
    "import random"
   ]
  },
  {
   "cell_type": "markdown",
   "metadata": {},
   "source": [
    "Now, Python knows to look for things with the form `random.command`. The `random.` tells Python to go find the `command` in the `random` module. \n",
    "\n",
    "Here I am going to make you practice reading [documentation](https://docs.python.org/3/library/random.html). \n",
    "\n",
    "Exercise 15: Add comments or markdown cells explaining what the next two code cells do after reading the documentation. "
   ]
  },
  {
   "cell_type": "code",
   "execution_count": null,
   "metadata": {},
   "outputs": [
    {
     "data": {
      "text/plain": [
       "8"
      ]
     },
     "execution_count": 34,
     "metadata": {},
     "output_type": "execute_result"
    }
   ],
   "source": [
    "random.randrange(0,10) #Picks random number from range (start, stop)\n",
    "#Optional, change step of numbers picked from (ie count by 5s) (start, stop, step)"
   ]
  },
  {
   "cell_type": "code",
   "execution_count": 70,
   "metadata": {},
   "outputs": [
    {
     "data": {
      "text/plain": [
       "'r'"
      ]
     },
     "execution_count": 70,
     "metadata": {},
     "output_type": "execute_result"
    }
   ],
   "source": [
    "random.choice(my_todo) #Picks a random value from predefined sequence/list"
   ]
  },
  {
   "cell_type": "markdown",
   "metadata": {},
   "source": [
    "Exercise 16: Write and comment a code cell that picks a random item from your todo list, prints a message saying that item has been completed, and then removes that item from the list! "
   ]
  },
  {
   "cell_type": "code",
   "execution_count": null,
   "metadata": {},
   "outputs": [
    {
     "name": "stdout",
     "output_type": "stream",
     "text": [
      "You done did it! The: item3\n"
     ]
    }
   ],
   "source": [
    "new_todo = [\"item1\", \"item2\", \"item3\"] #Example list\n",
    "did = random.choice(new_todo) #Variable that will represent item of index removed\n",
    "new_todo.remove(did) #Remove said item\n",
    "print_list = f\"You done did it! The: {did}\" #Message to be displayed, still using the did variable\n",
    "print(print_list) #Print congrats"
   ]
  },
  {
   "cell_type": "markdown",
   "metadata": {},
   "source": [
    "###### Disclaimer\n",
    "\n",
    "That line was meant for humorous purposes only. You should sleep regularly, often, and for as long as you need. "
   ]
  }
 ],
 "metadata": {
  "kernelspec": {
   "display_name": "Python 3",
   "language": "python",
   "name": "python3"
  },
  "language_info": {
   "codemirror_mode": {
    "name": "ipython",
    "version": 3
   },
   "file_extension": ".py",
   "mimetype": "text/x-python",
   "name": "python",
   "nbconvert_exporter": "python",
   "pygments_lexer": "ipython3",
   "version": "3.13.7"
  }
 },
 "nbformat": 4,
 "nbformat_minor": 2
}
